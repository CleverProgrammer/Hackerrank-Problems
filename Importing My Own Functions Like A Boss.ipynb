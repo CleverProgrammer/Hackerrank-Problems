{
 "cells": [
  {
   "cell_type": "code",
   "execution_count": 5,
   "metadata": {
    "collapsed": false
   },
   "outputs": [],
   "source": [
    "import re\n",
    "from sys import argv\n",
    "from Galvanize import q1"
   ]
  },
  {
   "cell_type": "code",
   "execution_count": 8,
   "metadata": {
    "collapsed": false
   },
   "outputs": [
    {
     "name": "stdout",
     "output_type": "stream",
     "text": [
      "Total word count: 40\n",
      "{'#git': 2, 'pushit': 1, 'cp': 1, 'git_script.txt': 1, 'cd': 3, 'git': 2, '*.ipynb': 1, 'origin': 1, '-m': 1, 'do': 1, 'master': 1, 'Commit': 1, \"/dropbox/'ipython\": 1, 'push': 1, 'true;': 1, 'sleep': 2, \"notebooks'\": 2, \"users/rafeh/dropbox/'ipython\": 1, 'add': 1, '&&': 2, 'done': 1, 'pull': 1, '.': 1, '#while': 1, \"'Automatic\": 1, 'commit': 1, '3600': 1, 'Notebook': 1, 'IPython': 1, '2;': 1, 'foo;': 1, \"Save'\": 1, 'sh': 1}\n",
      "Unique words:  33\n",
      "3\n"
     ]
    },
    {
     "data": {
      "text/plain": [
       "(40,\n",
       " {'#git': 2,\n",
       "  '#while': 1,\n",
       "  '&&': 2,\n",
       "  \"'Automatic\": 1,\n",
       "  '*.ipynb': 1,\n",
       "  '-m': 1,\n",
       "  '.': 1,\n",
       "  \"/dropbox/'ipython\": 1,\n",
       "  '2;': 1,\n",
       "  '3600': 1,\n",
       "  'Commit': 1,\n",
       "  'IPython': 1,\n",
       "  'Notebook': 1,\n",
       "  \"Save'\": 1,\n",
       "  'add': 1,\n",
       "  'cd': 3,\n",
       "  'commit': 1,\n",
       "  'cp': 1,\n",
       "  'do': 1,\n",
       "  'done': 1,\n",
       "  'foo;': 1,\n",
       "  'git': 2,\n",
       "  'git_script.txt': 1,\n",
       "  'master': 1,\n",
       "  \"notebooks'\": 2,\n",
       "  'origin': 1,\n",
       "  'pull': 1,\n",
       "  'push': 1,\n",
       "  'pushit': 1,\n",
       "  'sh': 1,\n",
       "  'sleep': 2,\n",
       "  'true;': 1,\n",
       "  \"users/rafeh/dropbox/'ipython\": 1},\n",
       " 33,\n",
       " 3)"
      ]
     },
     "execution_count": 8,
     "metadata": {},
     "output_type": "execute_result"
    }
   ],
   "source": [
    "f = open('git_script.txt','r')\n",
    "q1.text_content_analyzer(f)"
   ]
  },
  {
   "cell_type": "code",
   "execution_count": 7,
   "metadata": {
    "collapsed": false
   },
   "outputs": [
    {
     "name": "stdout",
     "output_type": "stream",
     "text": [
      "/Users/Rafeh\n"
     ]
    }
   ],
   "source": [
    "cd .."
   ]
  },
  {
   "cell_type": "code",
   "execution_count": null,
   "metadata": {
    "collapsed": true
   },
   "outputs": [],
   "source": []
  }
 ],
 "metadata": {
  "kernelspec": {
   "display_name": "Python 3",
   "language": "python",
   "name": "python3"
  },
  "language_info": {
   "codemirror_mode": {
    "name": "ipython",
    "version": 3
   },
   "file_extension": ".py",
   "mimetype": "text/x-python",
   "name": "python",
   "nbconvert_exporter": "python",
   "pygments_lexer": "ipython3",
   "version": "3.4.3"
  }
 },
 "nbformat": 4,
 "nbformat_minor": 0
}
