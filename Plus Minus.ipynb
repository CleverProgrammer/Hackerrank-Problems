{
 "cells": [
  {
   "cell_type": "markdown",
   "metadata": {},
   "source": [
    "Problem Statement\n",
    "\n",
    "You're given an array containing integer values. You need to print the fraction of count of positive numbers, negative numbers and zeroes to the total numbers. Print the value of the fractions correct to 3 decimal places.\n",
    "\n",
    "Input Format\n",
    "\n",
    "First line contains N, which is the size of the array. \n",
    "Next line contains N integers A1,A2,A3,⋯,AN, separated by space.\n",
    "\n",
    "Constraints \n",
    "1≤N≤100 \n",
    "−100≤Ai≤100\n",
    "Output Format\n",
    "\n",
    "Output three values on different lines equal to the fraction of count of positive numbers, negative numbers and zeroes to the total numbers respectively correct to 3 decimal places.\n",
    "\n",
    "Sample Input\n",
    "\n",
    "6\n",
    "\n",
    "-4 3 -9 0 4 1          \n",
    "Sample Output\n",
    "\n",
    "0.500\n",
    "0.333\n",
    "0.167\n",
    "Explanation\n",
    "\n",
    "There are 3 positive numbers, 2 negative numbers and 1 zero in the array. \n",
    "Fraction of the positive numbers, negative numbers and zeroes are 36=0.500, 26=0.333 and 16=0.167 respectively.\n",
    "\n",
    "Note This challenge introduces precision problems. You can even print output to 4 decimal places and above but only the difference at 3rd decimal digit is noted. That is the reason you'll notice testcases have much higher precision (more decimal places) than required. \n",
    "Answers with absolute error upto 10−4 will be accepted."
   ]
  },
  {
   "cell_type": "code",
   "execution_count": 1,
   "metadata": {
    "collapsed": false
   },
   "outputs": [
    {
     "ename": "NameError",
     "evalue": "name 'given_list' is not defined",
     "output_type": "error",
     "traceback": [
      "\u001b[0;31m---------------------------------------------------------------------------\u001b[0m",
      "\u001b[0;31mNameError\u001b[0m                                 Traceback (most recent call last)",
      "\u001b[0;32m<ipython-input-1-c9be35ef72c7>\u001b[0m in \u001b[0;36m<module>\u001b[0;34m()\u001b[0m\n\u001b[1;32m      6\u001b[0m \u001b[0;31m# give fraction of each kind of number\u001b[0m\u001b[0;34m\u001b[0m\u001b[0;34m\u001b[0m\u001b[0m\n\u001b[1;32m      7\u001b[0m \u001b[0;34m\u001b[0m\u001b[0m\n\u001b[0;32m----> 8\u001b[0;31m \u001b[0;32mfor\u001b[0m \u001b[0mnumber\u001b[0m \u001b[0;32min\u001b[0m \u001b[0mgiven_list\u001b[0m\u001b[0;34m:\u001b[0m\u001b[0;34m\u001b[0m\u001b[0m\n\u001b[0m\u001b[1;32m      9\u001b[0m     \u001b[0;32mif\u001b[0m \u001b[0mi\u001b[0m \u001b[0;34m>\u001b[0m \u001b[0;36m0\u001b[0m\u001b[0;34m:\u001b[0m\u001b[0;34m\u001b[0m\u001b[0m\n\u001b[1;32m     10\u001b[0m         \u001b[0mpositive_tracker\u001b[0m \u001b[0;34m+=\u001b[0m \u001b[0;36m1\u001b[0m\u001b[0;34m\u001b[0m\u001b[0m\n",
      "\u001b[0;31mNameError\u001b[0m: name 'given_list' is not defined"
     ]
    }
   ],
   "source": [
    "# Enter your code here. Read input from STDIN. Print output to STDOUT\n",
    "\n",
    "# positive_tracker = +1 if number > 0\n",
    "# negative_tracker = +1 if number < 0\n",
    "# zero_tracker     = +1 if number == 0\n",
    "# give fraction of each kind of number\n",
    "\n",
    "for number in given_list:\n",
    "    if i > 0:\n",
    "        positive_tracker += 1\n",
    "    if i < 0:\n",
    "        negative_tracker -= 1\n",
    "    if i == 0:\n",
    "        zero_tracker += 1"
   ]
  },
  {
   "cell_type": "code",
   "execution_count": 16,
   "metadata": {
    "collapsed": false
   },
   "outputs": [],
   "source": [
    "import sys"
   ]
  },
  {
   "cell_type": "code",
   "execution_count": 10,
   "metadata": {
    "collapsed": false
   },
   "outputs": [
    {
     "name": "stdout",
     "output_type": "stream",
     "text": [
      "-6 5 4\n"
     ]
    }
   ],
   "source": [
    "s2 = map(int,input().split())"
   ]
  },
  {
   "cell_type": "code",
   "execution_count": 17,
   "metadata": {
    "collapsed": false
   },
   "outputs": [],
   "source": [
    "s2 = sys.stdin.read(1)"
   ]
  },
  {
   "cell_type": "code",
   "execution_count": 18,
   "metadata": {
    "collapsed": false
   },
   "outputs": [
    {
     "data": {
      "text/plain": [
       "''"
      ]
     },
     "execution_count": 18,
     "metadata": {},
     "output_type": "execute_result"
    }
   ],
   "source": []
  },
  {
   "cell_type": "code",
   "execution_count": 27,
   "metadata": {
    "collapsed": false
   },
   "outputs": [
    {
     "name": "stdout",
     "output_type": "stream",
     "text": [
      "6\n",
      "-4 3 -9 0 4 1\n",
      "<map object at 0x104e333c8>\n",
      " 0.833 \n",
      " 0.000 \n",
      " 0.167 \n"
     ]
    }
   ],
   "source": [
    "# Enter your code here. Read input from STDIN. Print output to STDOUT\n",
    "\n",
    "# positive_tracker = +1 if number > 0\n",
    "# negative_tracker = +1 if number < 0\n",
    "# zero_tracker     =  0 if number == 0\n",
    "# give fraction of each kind of number\n",
    "\n",
    "from __future__ import division\n",
    "from sys import stdin\n",
    "\n",
    "#s1 = STDIN.readline() # Read user input\n",
    "s1 = eval(input())\n",
    "positive_tracker = 0\n",
    "negative_tracker = 0\n",
    "zero_tracker = 0\n",
    "\n",
    "s2 = map(int,input().split()) # accept input as string. Create a list of numbers removing the empty strings (spaces). \n",
    " # map each string as an integer\n",
    "print (\"%s\" %s2)\n",
    "for i in s2:\n",
    "    if i > 0:\n",
    "        positive_tracker += 1\n",
    "    elif i < 0:\n",
    "        negative_tracker += 1\n",
    "    elif i == 0:\n",
    "        zero_tracker += 1\n",
    "\n",
    "p = positive_tracker / s1\n",
    "n = negative_tracker / s1\n",
    "z = zero_tracker / s1\n",
    "\n",
    "print(\" %0.3f \" % p)\n",
    "print(\" %0.3f \" % n)\n",
    "print(\" %0.3f \" % z)"
   ]
  },
  {
   "cell_type": "code",
   "execution_count": null,
   "metadata": {
    "collapsed": true
   },
   "outputs": [],
   "source": []
  }
 ],
 "metadata": {
  "kernelspec": {
   "display_name": "Python 3",
   "language": "python",
   "name": "python3"
  },
  "language_info": {
   "codemirror_mode": {
    "name": "ipython",
    "version": 3
   },
   "file_extension": ".py",
   "mimetype": "text/x-python",
   "name": "python",
   "nbconvert_exporter": "python",
   "pygments_lexer": "ipython3",
   "version": "3.4.3"
  }
 },
 "nbformat": 4,
 "nbformat_minor": 0
}
